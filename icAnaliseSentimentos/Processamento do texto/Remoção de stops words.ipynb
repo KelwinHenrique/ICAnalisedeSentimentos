{
 "cells": [
  {
   "cell_type": "code",
   "execution_count": 19,
   "metadata": {
    "collapsed": true
   },
   "outputs": [],
   "source": [
    "with open('basededados.txt', 'r', encoding='utf-8') as f:\n",
    "    base = f.readlines()"
   ]
  },
  {
   "cell_type": "code",
   "execution_count": 2,
   "metadata": {
    "collapsed": true
   },
   "outputs": [],
   "source": [
    "base = [('@jandira_feghali São todos bandidos. Lembra-se no impeachment? Lula distribuindo dinheiro a mando de Dilma? Todos s… https://t.co/Tp607ihzzx','negativo'),\n",
    "        ('Dilma caiu tão rápido q eu mal pude entender o q era impeachment, já com Temer... Tudo dmora tanto, mas tanto q eu já entendi demais','negativo'),\n",
    "        ('RT @GABRlELPlNHElRO: Arnaldo Jabor diz q se Dilma não tivesse sido impichada teríamos virado uma Venezuela Eu acho que ainda corremos esse…','negativo'),\n",
    "        ('@Du_Benatti @MidiaNINJA Pois é , quando os pilantras de verde e amarelo ocupararm a Av.Paulista para afastar Dilma… https://t.co/zw9EDeRsUJ','positivo'),\n",
    "        ('@llucianna_silva @GloboNews no impeachment de Dilma tbm teve compra de deputados pra votarem não #PATRIAOMUERTE https://t.co/VrowDemCrO','negativo'),\n",
    "        ('RT @leandro_castro2: A Dilma não era Travesti? https://t.co/fMDk3U2eNk','negativo'),\n",
    "        ('@CrisVianna_1 @marcelorubens Isso me lembrou Dilma quando liberou emendas p tentar barrar o impeachment','negativo'),\n",
    "        ('RT @EricAmaral10: As atrocidades q estão ocorrendo na Venezuela deveriam servir de incentivo para o MPF pedir urgente as prisões de Lula e…','negativo'),\n",
    "        ('O Brasil está crescendo! Todo seu parecer é discurso invertido de sua fala quando do impeachment(GOLPE) contra Dilm… https://t.co/7REoADXy6V','positivo'),\n",
    "        ('@GloboNews fora Temer pq é corrupto.Fora Temer ,Fora Dilma ,Fora Aécio,Fora PT', 'negativo'),\n",
    "        ('Depois dos discursos para impeachment de Dilma \"Pelos meus filhos, estado, cidade, país\". Difícil acreditar que #InvestiguemTemer td safado😠', 'positivo'),\n",
    "        ('RT @AnaVilarino1: A denúncia de CORRUPÇÃO contra temer feita pelo PGR não vai vingar.Já Dilma foi golpeada por \"pedalada fiscal\" num proces…', 'positivo'),\n",
    "        ('isso me deixa apavorada', 'positivo'),\n",
    "        ('RT @elikatakimoto: Primeiro a gente tira a Dilma, depois diminuiu o investimento na Educação e as bolsas dos pesquisadores p a desigualdade…', 'positivo'),\n",
    "        ('Como é bom ter amigos. EC marcou votação do impedimento de Dilma no domingo, ao vivo pela Globo. Maia agendou a de Temer pra quarta-feira!', 'positivo'),\n",
    "        ('No governo Dilma, desemprego chegou a históricos 4,8%. Com o golpista, bateu 13% #InvestiguemTemer https://t.co/Nc1ExTxd6R', 'positivo'),\n",
    "        ('Delações mostram que Dilma sofreu golpe porque se opôs a esquema de corrupção. https://t.co/xIi7EJG9eS', 'positivo'),\n",
    "        ('Duvido eles fazerem nova votação no domingo como no caso da Dilma. https://t.co/YPvfB5BQm9', 'positivo'),\n",
    "        ('RT @palmeriodoria: Imprensa escrita, togada e televisada não fazia qualquer restrição à bancada BBB  no golpe contra Dilma. Até parece que…', 'positivo'),\n",
    "        ('RT @jandira_feghali: O vereador Marcelo Sgarbossa fez um bate papo bem legal com a nossa querida presidenta Dilma Rousseff durante um passe…', 'positivo'),\n",
    "        ('@HelioTelho Essa obsessão na queda do Temer, pra quem assumir, Maia? E a Dilma sem processos ainda protegida por Janot? Eleições só 2018. Assim era a turma de dilma e seus amiguinhos guerrilheiros. https://t.co/W8LnpDNOvq', 'negativo'),\n",
    "        ('Arnaldo Jabor diz q se Dilma não tivesse sido impichada teríamos virado uma Venezuela', 'negativo')]\n"
   ]
  },
  {
   "cell_type": "code",
   "execution_count": null,
   "metadata": {
    "collapsed": true
   },
   "outputs": [],
   "source": []
  },
  {
   "cell_type": "code",
   "execution_count": null,
   "metadata": {
    "collapsed": true
   },
   "outputs": [],
   "source": []
  },
  {
   "cell_type": "code",
   "execution_count": null,
   "metadata": {
    "collapsed": true
   },
   "outputs": [],
   "source": []
  },
  {
   "cell_type": "code",
   "execution_count": null,
   "metadata": {
    "collapsed": true
   },
   "outputs": [],
   "source": []
  },
  {
   "cell_type": "code",
   "execution_count": null,
   "metadata": {
    "collapsed": true
   },
   "outputs": [],
   "source": []
  },
  {
   "cell_type": "code",
   "execution_count": null,
   "metadata": {
    "collapsed": true
   },
   "outputs": [],
   "source": []
  },
  {
   "cell_type": "code",
   "execution_count": null,
   "metadata": {
    "collapsed": true
   },
   "outputs": [],
   "source": []
  },
  {
   "cell_type": "code",
   "execution_count": null,
   "metadata": {
    "collapsed": true
   },
   "outputs": [],
   "source": []
  },
  {
   "cell_type": "code",
   "execution_count": null,
   "metadata": {
    "collapsed": true
   },
   "outputs": [],
   "source": []
  },
  {
   "cell_type": "code",
   "execution_count": 3,
   "metadata": {},
   "outputs": [
    {
     "name": "stdout",
     "output_type": "stream",
     "text": [
      "('RT @EricAmaral10: As atrocidades q estão ocorrendo na Venezuela deveriam servir de incentivo para o MPF pedir urgente as prisões de Lula e…', 'negativo')\n"
     ]
    }
   ],
   "source": [
    "print(base[7])"
   ]
  },
  {
   "cell_type": "code",
   "execution_count": 4,
   "metadata": {},
   "outputs": [
    {
     "name": "stdout",
     "output_type": "stream",
     "text": [
      "['de', 'a', 'o', 'que', 'e', 'do', 'da', 'em', 'um', 'para', 'com', 'não', 'uma', 'os', 'no', 'se', 'na', 'por', 'mais', 'as', 'dos', 'como', 'mas', 'ao', 'ele', 'das', 'à', 'seu', 'sua', 'ou', 'quando', 'muito', 'nos', 'já', 'eu', 'também', 'só', 'pelo', 'pela', 'até', 'isso', 'ela', 'entre', 'depois', 'sem', 'mesmo', 'aos', 'seus', 'quem', 'nas', 'me', 'esse', 'eles', 'você', 'essa', 'num', 'nem', 'suas', 'meu', 'às', 'minha', 'numa', 'pelos', 'elas', 'qual', 'nós', 'lhe', 'deles', 'essas', 'esses', 'pelas', 'este', 'dele', 'tu', 'te', 'vocês', 'vos', 'lhes', 'meus', 'minhas', 'teu', 'tua', 'teus', 'tuas', 'nosso', 'nossa', 'nossos', 'nossas', 'dela', 'delas', 'esta', 'estes', 'estas', 'aquele', 'aquela', 'aqueles', 'aquelas', 'isto', 'aquilo', 'estou', 'está', 'estamos', 'estão', 'estive', 'esteve', 'estivemos', 'estiveram', 'estava', 'estávamos', 'estavam', 'estivera', 'estivéramos', 'esteja', 'estejamos', 'estejam', 'estivesse', 'estivéssemos', 'estivessem', 'estiver', 'estivermos', 'estiverem', 'hei', 'há', 'havemos', 'hão', 'houve', 'houvemos', 'houveram', 'houvera', 'houvéramos', 'haja', 'hajamos', 'hajam', 'houvesse', 'houvéssemos', 'houvessem', 'houver', 'houvermos', 'houverem', 'houverei', 'houverá', 'houveremos', 'houverão', 'houveria', 'houveríamos', 'houveriam', 'sou', 'somos', 'são', 'era', 'éramos', 'eram', 'fui', 'foi', 'fomos', 'foram', 'fora', 'fôramos', 'seja', 'sejamos', 'sejam', 'fosse', 'fôssemos', 'fossem', 'for', 'formos', 'forem', 'serei', 'será', 'seremos', 'serão', 'seria', 'seríamos', 'seriam', 'tenho', 'tem', 'temos', 'tém', 'tinha', 'tínhamos', 'tinham', 'tive', 'teve', 'tivemos', 'tiveram', 'tivera', 'tivéramos', 'tenha', 'tenhamos', 'tenham', 'tivesse', 'tivéssemos', 'tivessem', 'tiver', 'tivermos', 'tiverem', 'terei', 'terá', 'teremos', 'terão', 'teria', 'teríamos', 'teriam']\n"
     ]
    }
   ],
   "source": [
    "import nltk\n",
    "stopwordsnltk = nltk.corpus.stopwords.words('portuguese')\n",
    "print(stopwordsnltk)"
   ]
  },
  {
   "cell_type": "code",
   "execution_count": 5,
   "metadata": {
    "collapsed": true
   },
   "outputs": [],
   "source": [
    "stopwordsnltk.append('q')\n",
    "stopwordsnltk.append('vc')\n",
    "stopwordsnltk.append('k')\n",
    "stopwordsnltk.append('rt')"
   ]
  },
  {
   "cell_type": "code",
   "execution_count": 24,
   "metadata": {},
   "outputs": [
    {
     "name": "stdout",
     "output_type": "stream",
     "text": [
      "sao\n",
      "todos\n",
      "bandidos\n",
      "lembra\n",
      "impeachment\n",
      "lula\n",
      "distribuindo\n",
      "dinheiro\n",
      "mando\n",
      "dilma\n",
      "todos\n",
      "s…\n",
      "dilma\n",
      "caiu\n",
      "tao\n",
      "rapido\n",
      "mal\n",
      "pude\n",
      "entender\n",
      "impeachment\n",
      "ja\n",
      "temer..\n",
      "tudo\n",
      "dmora\n",
      "tanto\n",
      "tanto\n",
      "ja\n",
      "entendi\n",
      "demais\n",
      "arnaldo\n",
      "jabor\n",
      "diz\n",
      "dilma\n",
      "nao\n",
      "sido\n",
      "impichada\n",
      "teriamos\n",
      "virado\n",
      "venezuela\n",
      "acho\n",
      "ainda\n",
      "corremos\n",
      "esse…\n",
      "pois\n",
      "pilantras\n",
      "verde\n",
      "amarelo\n",
      "ocupararm\n",
      "av.paulista\n",
      "afastar\n",
      "dilma…\n",
      "impeachment\n",
      "dilma\n",
      "tbm\n",
      "compra\n",
      "deputados\n",
      "pra\n",
      "votarem\n",
      "nao\n",
      "#patriaomuerte\n",
      "dilma\n",
      "nao\n",
      "travesti\n",
      "lembrou\n",
      "dilma\n",
      "liberou\n",
      "emendas\n",
      "p\n",
      "tentar\n",
      "barrar\n",
      "impeachment\n",
      "atrocidades\n",
      "estao\n",
      "ocorrendo\n",
      "venezuela\n",
      "deveriam\n",
      "servir\n",
      "incentivo\n",
      "mpf\n",
      "pedir\n",
      "urgente\n",
      "prisoes\n",
      "lula\n",
      "e…\n",
      "brasil\n",
      "crescendo\n",
      "todo\n",
      "parecer\n",
      "discurso\n",
      "invertido\n",
      "fala\n",
      "impeachment\n",
      "golpe\n",
      "contra\n",
      "dilm…\n",
      "temer\n",
      "pq\n",
      "corrupto.fora\n",
      "temer\n",
      "dilma\n",
      "aecio\n",
      "pt\n",
      "discursos\n",
      "impeachment\n",
      "dilma\n",
      "\"pelos\n",
      "filhos\n",
      "estado\n",
      "cidade\n",
      "pais\"\n",
      "dificil\n",
      "acreditar\n",
      "#investiguemtemer\n",
      "td\n",
      "safado😠\n",
      "denuncia\n",
      "corrupcao\n",
      "contra\n",
      "temer\n",
      "feita\n",
      "pgr\n",
      "nao\n",
      "vai\n",
      "vingar.ja\n",
      "dilma\n",
      "golpeada\n",
      "\"pedalada\n",
      "fiscal\"\n",
      "proces…\n",
      "deixa\n",
      "apavorada\n",
      "primeiro\n",
      "gente\n",
      "tira\n",
      "dilma\n",
      "diminuiu\n",
      "investimento\n",
      "educacao\n",
      "bolsas\n",
      "pesquisadores\n",
      "p\n",
      "desigualdade…\n",
      "bom\n",
      "ter\n",
      "amigos\n",
      "ec\n",
      "marcou\n",
      "votacao\n",
      "impedimento\n",
      "dilma\n",
      "domingo\n",
      "vivo\n",
      "globo\n",
      "maia\n",
      "agendou\n",
      "temer\n",
      "pra\n",
      "quarta\n",
      "feira\n",
      "governo\n",
      "dilma\n",
      "desemprego\n",
      "chegou\n",
      "historicos\n",
      "8%\n",
      "golpista\n",
      "bateu\n",
      "13%\n",
      "#investiguemtemer\n",
      "delacoes\n",
      "mostram\n",
      "dilma\n",
      "sofreu\n",
      "golpe\n",
      "porque\n",
      "opos\n",
      "esquema\n",
      "corrupcao\n",
      "duvido\n",
      "fazerem\n",
      "nova\n",
      "votacao\n",
      "domingo\n",
      "caso\n",
      "dilma\n",
      "imprensa\n",
      "escrita\n",
      "togada\n",
      "televisada\n",
      "nao\n",
      "fazia\n",
      "qualquer\n",
      "restricao\n",
      "bancada\n",
      "bbb\n",
      "golpe\n",
      "contra\n",
      "dilma\n",
      "ate\n",
      "parece\n",
      "que…\n",
      "vereador\n",
      "marcelo\n",
      "sgarbossa\n",
      "fez\n",
      "bate\n",
      "papo\n",
      "bem\n",
      "legal\n",
      "querida\n",
      "presidenta\n",
      "dilma\n",
      "rousseff\n",
      "durante\n",
      "passe…\n",
      "obsessao\n",
      "queda\n",
      "temer\n",
      "pra\n",
      "assumir\n",
      "maia\n",
      "dilma\n",
      "processos\n",
      "ainda\n",
      "protegida\n",
      "janot\n",
      "eleicoes\n",
      "so\n",
      "assim\n",
      "turma\n",
      "dilma\n",
      "amiguinhos\n",
      "guerrilheiros\n",
      "arnaldo\n",
      "jabor\n",
      "diz\n",
      "dilma\n",
      "nao\n",
      "sido\n",
      "impichada\n",
      "teriamos\n",
      "virado\n",
      "venezuela\n",
      "[(['sao', 'todos', 'bandidos', 'lembra', 'impeachment', 'lula', 'distribuindo', 'dinheiro', 'mando', 'dilma', 'todos', 's…'], 'negativo'), (['dilma', 'caiu', 'tao', 'rapido', 'mal', 'pude', 'entender', 'impeachment', 'ja', 'temer..', 'tudo', 'dmora', 'tanto', 'tanto', 'ja', 'entendi', 'demais'], 'negativo'), (['arnaldo', 'jabor', 'diz', 'dilma', 'nao', 'sido', 'impichada', 'teriamos', 'virado', 'venezuela', 'acho', 'ainda', 'corremos', 'esse…'], 'negativo'), (['pois', 'pilantras', 'verde', 'amarelo', 'ocupararm', 'av.paulista', 'afastar', 'dilma…'], 'positivo'), (['impeachment', 'dilma', 'tbm', 'compra', 'deputados', 'pra', 'votarem', 'nao', '#patriaomuerte'], 'negativo'), (['dilma', 'nao', 'travesti'], 'negativo'), (['lembrou', 'dilma', 'liberou', 'emendas', 'p', 'tentar', 'barrar', 'impeachment'], 'negativo'), (['atrocidades', 'estao', 'ocorrendo', 'venezuela', 'deveriam', 'servir', 'incentivo', 'mpf', 'pedir', 'urgente', 'prisoes', 'lula', 'e…'], 'negativo'), (['brasil', 'crescendo', 'todo', 'parecer', 'discurso', 'invertido', 'fala', 'impeachment', 'golpe', 'contra', 'dilm…'], 'positivo'), (['temer', 'pq', 'corrupto.fora', 'temer', 'dilma', 'aecio', 'pt'], 'negativo'), (['discursos', 'impeachment', 'dilma', '\"pelos', 'filhos', 'estado', 'cidade', 'pais\"', 'dificil', 'acreditar', '#investiguemtemer', 'td', 'safado😠'], 'positivo'), (['denuncia', 'corrupcao', 'contra', 'temer', 'feita', 'pgr', 'nao', 'vai', 'vingar.ja', 'dilma', 'golpeada', '\"pedalada', 'fiscal\"', 'proces…'], 'positivo'), (['deixa', 'apavorada'], 'positivo'), (['primeiro', 'gente', 'tira', 'dilma', 'diminuiu', 'investimento', 'educacao', 'bolsas', 'pesquisadores', 'p', 'desigualdade…'], 'positivo'), (['bom', 'ter', 'amigos', 'ec', 'marcou', 'votacao', 'impedimento', 'dilma', 'domingo', 'vivo', 'globo', 'maia', 'agendou', 'temer', 'pra', 'quarta', 'feira'], 'positivo'), (['governo', 'dilma', 'desemprego', 'chegou', 'historicos', '8%', 'golpista', 'bateu', '13%', '#investiguemtemer'], 'positivo'), (['delacoes', 'mostram', 'dilma', 'sofreu', 'golpe', 'porque', 'opos', 'esquema', 'corrupcao'], 'positivo'), (['duvido', 'fazerem', 'nova', 'votacao', 'domingo', 'caso', 'dilma'], 'positivo'), (['imprensa', 'escrita', 'togada', 'televisada', 'nao', 'fazia', 'qualquer', 'restricao', 'bancada', 'bbb', 'golpe', 'contra', 'dilma', 'ate', 'parece', 'que…'], 'positivo'), (['vereador', 'marcelo', 'sgarbossa', 'fez', 'bate', 'papo', 'bem', 'legal', 'querida', 'presidenta', 'dilma', 'rousseff', 'durante', 'passe…'], 'positivo'), (['obsessao', 'queda', 'temer', 'pra', 'assumir', 'maia', 'dilma', 'processos', 'ainda', 'protegida', 'janot', 'eleicoes', 'so', 'assim', 'turma', 'dilma', 'amiguinhos', 'guerrilheiros'], 'negativo'), (['arnaldo', 'jabor', 'diz', 'dilma', 'nao', 'sido', 'impichada', 'teriamos', 'virado', 'venezuela'], 'negativo')]\n",
      "sao\n",
      "todos\n",
      "bandidos\n",
      "lembra\n",
      "impeachment\n",
      "lula\n",
      "distribuindo\n",
      "dinheiro\n",
      "mando\n",
      "dilma\n",
      "todos\n",
      "s…\n",
      "dilma\n",
      "caiu\n",
      "tao\n",
      "rapido\n",
      "mal\n",
      "pude\n",
      "entender\n",
      "impeachment\n",
      "ja\n",
      "temer..\n",
      "tudo\n",
      "dmora\n",
      "tanto\n",
      "tanto\n",
      "ja\n",
      "entendi\n",
      "demais\n",
      "arnaldo\n",
      "jabor\n",
      "diz\n",
      "dilma\n",
      "nao\n",
      "sido\n",
      "impichada\n",
      "teriamos\n",
      "virado\n",
      "venezuela\n",
      "acho\n",
      "ainda\n",
      "corremos\n",
      "esse…\n",
      "pois\n",
      "pilantras\n",
      "verde\n",
      "amarelo\n",
      "ocupararm\n",
      "av.paulista\n",
      "afastar\n",
      "dilma…\n",
      "impeachment\n",
      "dilma\n",
      "tbm\n",
      "compra\n",
      "deputados\n",
      "pra\n",
      "votarem\n",
      "nao\n",
      "#patriaomuerte\n",
      "dilma\n",
      "nao\n",
      "travesti\n",
      "lembrou\n",
      "dilma\n",
      "liberou\n",
      "emendas\n",
      "p\n",
      "tentar\n",
      "barrar\n",
      "impeachment\n",
      "atrocidades\n",
      "estao\n",
      "ocorrendo\n",
      "venezuela\n",
      "deveriam\n",
      "servir\n",
      "incentivo\n",
      "mpf\n",
      "pedir\n",
      "urgente\n",
      "prisoes\n",
      "lula\n",
      "e…\n",
      "brasil\n",
      "crescendo\n",
      "todo\n",
      "parecer\n",
      "discurso\n",
      "invertido\n",
      "fala\n",
      "impeachment\n",
      "golpe\n",
      "contra\n",
      "dilm…\n",
      "temer\n",
      "pq\n",
      "corrupto.fora\n",
      "temer\n",
      "dilma\n",
      "aecio\n",
      "pt\n",
      "discursos\n",
      "impeachment\n",
      "dilma\n",
      "\"pelos\n",
      "filhos\n",
      "estado\n",
      "cidade\n",
      "pais\"\n",
      "dificil\n",
      "acreditar\n",
      "#investiguemtemer\n",
      "td\n",
      "safado😠\n",
      "denuncia\n",
      "corrupcao\n",
      "contra\n",
      "temer\n",
      "feita\n",
      "pgr\n",
      "nao\n",
      "vai\n",
      "vingar.ja\n",
      "dilma\n",
      "golpeada\n",
      "\"pedalada\n",
      "fiscal\"\n",
      "proces…\n",
      "deixa\n",
      "apavorada\n",
      "primeiro\n",
      "gente\n",
      "tira\n",
      "dilma\n",
      "diminuiu\n",
      "investimento\n",
      "educacao\n",
      "bolsas\n",
      "pesquisadores\n",
      "p\n",
      "desigualdade…\n",
      "bom\n",
      "ter\n",
      "amigos\n",
      "ec\n",
      "marcou\n",
      "votacao\n",
      "impedimento\n",
      "dilma\n",
      "domingo\n",
      "vivo\n",
      "globo\n",
      "maia\n",
      "agendou\n",
      "temer\n",
      "pra\n",
      "quarta\n",
      "feira\n",
      "governo\n",
      "dilma\n",
      "desemprego\n",
      "chegou\n",
      "historicos\n",
      "8%\n",
      "golpista\n",
      "bateu\n",
      "13%\n",
      "#investiguemtemer\n",
      "delacoes\n",
      "mostram\n",
      "dilma\n",
      "sofreu\n",
      "golpe\n",
      "porque\n",
      "opos\n",
      "esquema\n",
      "corrupcao\n",
      "duvido\n",
      "fazerem\n",
      "nova\n",
      "votacao\n",
      "domingo\n",
      "caso\n",
      "dilma\n",
      "imprensa\n",
      "escrita\n",
      "togada\n",
      "televisada\n",
      "nao\n",
      "fazia\n",
      "qualquer\n",
      "restricao\n",
      "bancada\n",
      "bbb\n",
      "golpe\n",
      "contra\n",
      "dilma\n",
      "ate\n",
      "parece\n",
      "que…\n",
      "vereador\n",
      "marcelo\n",
      "sgarbossa\n",
      "fez\n",
      "bate\n",
      "papo\n",
      "bem\n",
      "legal\n",
      "querida\n",
      "presidenta\n",
      "dilma\n",
      "rousseff\n",
      "durante\n",
      "passe…\n",
      "obsessao\n",
      "queda\n",
      "temer\n",
      "pra\n",
      "assumir\n",
      "maia\n",
      "dilma\n",
      "processos\n",
      "ainda\n",
      "protegida\n",
      "janot\n",
      "eleicoes\n",
      "so\n",
      "assim\n",
      "turma\n",
      "dilma\n",
      "amiguinhos\n",
      "guerrilheiros\n",
      "arnaldo\n",
      "jabor\n",
      "diz\n",
      "dilma\n",
      "nao\n",
      "sido\n",
      "impichada\n",
      "teriamos\n",
      "virado\n",
      "venezuela\n"
     ]
    }
   ],
   "source": [
    "def removestopwords(texto):\n",
    "    frases = []\n",
    "   \n",
    "    for(palavras, emocao) in texto:\n",
    "        \n",
    "        palavras = palavras.lower()\n",
    "        palavras = palavras.replace('?',' ')\n",
    "        palavras = palavras.replace('!',' ')\n",
    "        palavras = palavras.replace('. ',' ')\n",
    "        palavras = palavras.replace(')',' ')\n",
    "        palavras = palavras.replace('(',' ')\n",
    "        palavras = palavras.replace('-',' ')\n",
    "        palavras = palavras.replace(',',' ')\n",
    "        palavras = palavras.replace('/ ',' ')\n",
    "        palavras = palavras.replace('*',' ')\n",
    "        palavras = palavras.replace('=',' ')\n",
    "        palavras = palavras.replace(':','')\n",
    "        \n",
    "        palavras = palavras.replace('r$',' ')\n",
    "        \n",
    "       # palavras = palavras.replace('0',' ')\n",
    "       # palavras = palavras.replace('1',' ')\n",
    "       # palavras = palavras.replace('2',' ')\n",
    "       # palavras = palavras.replace('3',' ')\n",
    "       # palavras = palavras.replace('4',' ')\n",
    "       # palavras = palavras.replace('5',' ')\n",
    "       # palavras = palavras.replace('6',' ')\n",
    "      #  palavras = palavras.replace('7',' ')\n",
    "       # palavras = palavras.replace('8',' ')\n",
    "      #  palavras = palavras.replace('9',' ')\n",
    "        \n",
    "        \n",
    "        \n",
    "        palavras = palavras.replace('á','a')\n",
    "        palavras = palavras.replace('à','a')\n",
    "        palavras = palavras.replace('â','a')\n",
    "        palavras = palavras.replace('ã','a')\n",
    "        \n",
    "        palavras = palavras.replace('é','e')\n",
    "        palavras = palavras.replace('è','e')\n",
    "        palavras = palavras.replace('ê','e')\n",
    "        \n",
    "        \n",
    "        palavras = palavras.replace('í','i')\n",
    "        palavras = palavras.replace('ì','i')\n",
    "        palavras = palavras.replace('î','i')\n",
    "        \n",
    "        \n",
    "        \n",
    "        palavras = palavras.replace('ó','o')\n",
    "        palavras = palavras.replace('ò','o')\n",
    "        palavras = palavras.replace('ô','o')\n",
    "        palavras = palavras.replace('õ','o')\n",
    "        \n",
    "        palavras = palavras.replace('ú','u')\n",
    "        palavras = palavras.replace('ù','u')\n",
    "        palavras = palavras.replace('û','u')\n",
    "        \n",
    "        \n",
    "        palavras = palavras.replace('ç','c')\n",
    "        \n",
    "        \n",
    "        \n",
    "        \n",
    "        semstop = [p for p in palavras.split() if (p not in stopwordsnltk and p.isdigit()== False and p[0] != '@' \n",
    "                                                   and ehlink(p) == False and ehrisada(p) == False)]\n",
    "        \n",
    "        \n",
    "        tamanho = len(semstop)\n",
    "        i=0\n",
    "        while i< tamanho:\n",
    "            print(semstop[i])\n",
    "            \n",
    "            \n",
    "            i = i+1\n",
    "        frases.append((semstop, emocao))\n",
    "    return frases\n",
    "\n",
    "\n",
    "print(removestopwords(base))\n",
    "\n",
    "textosemstopwords = removestopwords(base)\n",
    "\n",
    "\n"
   ]
  },
  {
   "cell_type": "code",
   "execution_count": null,
   "metadata": {
    "collapsed": true
   },
   "outputs": [],
   "source": []
  },
  {
   "cell_type": "code",
   "execution_count": null,
   "metadata": {
    "collapsed": true
   },
   "outputs": [],
   "source": []
  },
  {
   "cell_type": "code",
   "execution_count": null,
   "metadata": {
    "collapsed": true
   },
   "outputs": [],
   "source": []
  },
  {
   "cell_type": "code",
   "execution_count": null,
   "metadata": {
    "collapsed": true
   },
   "outputs": [],
   "source": []
  },
  {
   "cell_type": "code",
   "execution_count": null,
   "metadata": {
    "collapsed": true
   },
   "outputs": [],
   "source": []
  },
  {
   "cell_type": "code",
   "execution_count": null,
   "metadata": {
    "collapsed": true
   },
   "outputs": [],
   "source": []
  },
  {
   "cell_type": "code",
   "execution_count": null,
   "metadata": {
    "collapsed": true
   },
   "outputs": [],
   "source": []
  },
  {
   "cell_type": "code",
   "execution_count": null,
   "metadata": {
    "collapsed": true
   },
   "outputs": [],
   "source": []
  },
  {
   "cell_type": "code",
   "execution_count": null,
   "metadata": {
    "collapsed": true
   },
   "outputs": [],
   "source": []
  },
  {
   "cell_type": "code",
   "execution_count": null,
   "metadata": {
    "collapsed": true
   },
   "outputs": [],
   "source": []
  },
  {
   "cell_type": "code",
   "execution_count": null,
   "metadata": {
    "collapsed": true
   },
   "outputs": [],
   "source": []
  },
  {
   "cell_type": "code",
   "execution_count": null,
   "metadata": {
    "collapsed": true
   },
   "outputs": [],
   "source": []
  },
  {
   "cell_type": "code",
   "execution_count": 6,
   "metadata": {
    "collapsed": true
   },
   "outputs": [],
   "source": [
    "def ehlink(palavra):\n",
    "    if(len(palavra) >4):\n",
    "        if(palavra[0]== 'h' and palavra[1]== 't' and palavra[2]== 't' and palavra[3]== 'p'):\n",
    "            return True\n",
    "    return False\n",
    "        \n",
    "    \n",
    "    "
   ]
  },
  {
   "cell_type": "code",
   "execution_count": 7,
   "metadata": {
    "collapsed": true
   },
   "outputs": [],
   "source": [
    "def ehrisada(palavra):\n",
    "    if(len(palavra) >2):\n",
    "        if((palavra[0]== 'k' and palavra[1]== 'k') or (palavra[0]== 'r' and palavra[1]== 's')):\n",
    "            return True\n",
    "    return False"
   ]
  },
  {
   "cell_type": "code",
   "execution_count": 12,
   "metadata": {},
   "outputs": [
    {
     "name": "stdout",
     "output_type": "stream",
     "text": [
      "['todos', 'bandidos.', 'lembra-se', 'impeachment', 'lula', 'distribuindo', 'dinheiro', 'mando', 'dilma', 'todos', 's…', 'dilma', 'caiu', 'tão', 'rápido', 'mal', 'pude', 'entender', 'impeachment,', 'temer...', 'tudo', 'dmora', 'tanto,', 'tanto', 'entendi', 'demais', 'arnaldo', 'jabor', 'diz', 'dilma', 'sido', 'impichada', 'virado', 'venezuela', 'acho', 'ainda', 'corremos', 'esse…', 'pois', 'é', ',', 'pilantras', 'verde', 'amarelo', 'ocupararm', 'av.paulista', 'afastar', 'dilma…', 'impeachment', 'dilma', 'tbm', 'compra', 'deputados', 'pra', 'votarem', '#patriaomuerte', 'dilma', 'travesti', 'lembrou', 'dilma', 'liberou', 'emendas', 'p', 'tentar', 'barrar', 'impeachment', 'atrocidades', 'ocorrendo', 'venezuela', 'deveriam', 'servir', 'incentivo', 'mpf', 'pedir', 'urgente', 'prisões', 'lula', 'e…', 'brasil', 'crescendo!', 'todo', 'parecer', 'é', 'discurso', 'invertido', 'fala', 'impeachment(golpe)', 'contra', 'dilm…', 'temer', 'pq', 'é', 'corrupto.fora', 'temer', ',fora', 'dilma', ',fora', 'aécio,fora', 'pt', 'discursos', 'impeachment', 'dilma', '\"pelos', 'filhos,', 'estado,', 'cidade,', 'país\".', 'difícil', 'acreditar', '#investiguemtemer', 'td', 'safado😠', 'denúncia', 'corrupção', 'contra', 'temer', 'feita', 'pgr', 'vai', 'vingar.já', 'dilma', 'golpeada', '\"pedalada', 'fiscal\"', 'proces…', 'deixa', 'apavorada', 'primeiro', 'gente', 'tira', 'dilma,', 'diminuiu', 'investimento', 'educação', 'bolsas', 'pesquisadores', 'p', 'desigualdade…', 'é', 'bom', 'ter', 'amigos.', 'ec', 'marcou', 'votação', 'impedimento', 'dilma', 'domingo,', 'vivo', 'globo.', 'maia', 'agendou', 'temer', 'pra', 'quarta-feira!', 'governo', 'dilma,', 'desemprego', 'chegou', 'históricos', '4,8%.', 'golpista,', 'bateu', '13%', '#investiguemtemer', 'delações', 'mostram', 'dilma', 'sofreu', 'golpe', 'porque', 'opôs', 'esquema', 'corrupção.', 'duvido', 'fazerem', 'nova', 'votação', 'domingo', 'caso', 'dilma.', 'imprensa', 'escrita,', 'togada', 'televisada', 'fazia', 'qualquer', 'restrição', 'bancada', 'bbb', 'golpe', 'contra', 'dilma.', 'parece', 'que…', 'vereador', 'marcelo', 'sgarbossa', 'fez', 'bate', 'papo', 'bem', 'legal', 'querida', 'presidenta', 'dilma', 'rousseff', 'durante', 'passe…', 'obsessão', 'queda', 'temer,', 'pra', 'assumir,', 'maia', 'dilma', 'processos', 'ainda', 'protegida', 'janot', 'eleições', '2018.', 'assim', 'turma', 'dilma', 'amiguinhos', 'guerrilheiros.', 'arnaldo', 'jabor', 'diz', 'dilma', 'sido', 'impichada', 'virado', 'venezuela']\n"
     ]
    }
   ],
   "source": [
    "def buscapalavras(frase):\n",
    "    todaspalavras = []\n",
    "    for(palavras, emocao) in frase:\n",
    "        todaspalavras.extend(palavras)\n",
    "    return todaspalavras\n",
    "\n",
    "\n",
    "print(buscapalavras(textosemstopwords))\n",
    "\n",
    "todaspalavras = buscapalavras(textosemstopwords)\n",
    "\n",
    "    "
   ]
  },
  {
   "cell_type": "code",
   "execution_count": 15,
   "metadata": {
    "collapsed": true
   },
   "outputs": [],
   "source": [
    "def buscafrequencia(palavras):\n",
    "    palavras = nltk.FreqDist(palavras)\n",
    "    return palavras"
   ]
  },
  {
   "cell_type": "code",
   "execution_count": 16,
   "metadata": {},
   "outputs": [
    {
     "name": "stdout",
     "output_type": "stream",
     "text": [
      "[('dilma', 15), ('impeachment', 4), ('é', 4), ('temer', 4), ('venezuela', 3), ('pra', 3), ('contra', 3), ('todos', 2), ('lula', 2), ('arnaldo', 2), ('jabor', 2), ('diz', 2), ('sido', 2), ('impichada', 2), ('virado', 2), ('ainda', 2), ('p', 2), (',fora', 2), ('#investiguemtemer', 2), ('dilma,', 2), ('votação', 2), ('maia', 2), ('golpe', 2), ('dilma.', 2), ('bandidos.', 1), ('lembra-se', 1), ('distribuindo', 1), ('dinheiro', 1), ('mando', 1), ('s…', 1), ('caiu', 1), ('tão', 1), ('rápido', 1), ('mal', 1), ('pude', 1), ('entender', 1), ('impeachment,', 1), ('temer...', 1), ('tudo', 1), ('dmora', 1), ('tanto,', 1), ('tanto', 1), ('entendi', 1), ('demais', 1), ('acho', 1), ('corremos', 1), ('esse…', 1), ('pois', 1), (',', 1), ('pilantras', 1), ('verde', 1), ('amarelo', 1), ('ocupararm', 1), ('av.paulista', 1), ('afastar', 1), ('dilma…', 1), ('tbm', 1), ('compra', 1), ('deputados', 1), ('votarem', 1), ('#patriaomuerte', 1), ('travesti', 1), ('lembrou', 1), ('liberou', 1), ('emendas', 1), ('tentar', 1), ('barrar', 1), ('atrocidades', 1), ('ocorrendo', 1), ('deveriam', 1), ('servir', 1), ('incentivo', 1), ('mpf', 1), ('pedir', 1), ('urgente', 1), ('prisões', 1), ('e…', 1), ('brasil', 1), ('crescendo!', 1), ('todo', 1), ('parecer', 1), ('discurso', 1), ('invertido', 1), ('fala', 1), ('impeachment(golpe)', 1), ('dilm…', 1), ('pq', 1), ('corrupto.fora', 1), ('aécio,fora', 1), ('pt', 1), ('discursos', 1), ('\"pelos', 1), ('filhos,', 1), ('estado,', 1), ('cidade,', 1), ('país\".', 1), ('difícil', 1), ('acreditar', 1), ('td', 1), ('safado😠', 1)]\n"
     ]
    }
   ],
   "source": [
    "frequencia = buscafrequencia(todaspalavras)\n",
    "print(frequencia.most_common(100))"
   ]
  },
  {
   "cell_type": "code",
   "execution_count": 53,
   "metadata": {
    "collapsed": true
   },
   "outputs": [],
   "source": [
    "def buscapalavrasunicas(frequencia):\n",
    "    freq = frequencia.keys()\n",
    "    return freq\n"
   ]
  },
  {
   "cell_type": "code",
   "execution_count": 52,
   "metadata": {},
   "outputs": [
    {
     "name": "stdout",
     "output_type": "stream",
     "text": [
      "dict_keys(['todos', 'bandidos.', 'lembra-se', 'impeachment?', 'lula', 'distribuindo', 'dinheiro', 'mando', 'dilma?', 's…', 'dilma', 'caiu', 'tão', 'rápido', 'mal', 'pude', 'entender', 'impeachment,', 'temer...', 'tudo', 'dmora', 'tanto,', 'tanto', 'entendi', 'demais', 'arnaldo', 'jabor', 'diz', 'sido', 'impichada', 'virado', 'venezuela', 'acho', 'ainda', 'corremos', 'esse…', 'pois', 'é', ',', 'pilantras', 'verde', 'amarelo', 'ocupararm', 'av.paulista', 'afastar', 'dilma…', 'impeachment', 'tbm', 'compra', 'deputados', 'pra', 'votarem', '#patriaomuerte', 'travesti?', 'lembrou', 'liberou', 'emendas', 'p', 'tentar', 'barrar', 'atrocidades', 'ocorrendo', 'deveriam', 'servir', 'incentivo', 'mpf', 'pedir', 'urgente', 'prisões', 'e…', 'brasil', 'crescendo!', 'todo', 'parecer', 'discurso', 'invertido', 'fala', 'impeachment(golpe)', 'contra', 'dilm…', 'temer', 'pq', 'corrupto.fora', ',fora', 'aécio,fora', 'pt', 'discursos', '\"pelos', 'filhos,', 'estado,', 'cidade,', 'país\".', 'difícil', 'acreditar', '#investiguemtemer', 'td', 'safado😠', 'denúncia', 'corrupção', 'feita', 'pgr', 'vai', 'vingar.já', 'golpeada', '\"pedalada', 'fiscal\"', 'proces…', 'deixa', 'apavorada', 'primeiro', 'gente', 'tira', 'dilma,', 'diminuiu', 'investimento', 'educação', 'bolsas', 'pesquisadores', 'desigualdade…', 'bom', 'ter', 'amigos.', 'ec', 'marcou', 'votação', 'impedimento', 'domingo,', 'vivo', 'globo.', 'maia', 'agendou', 'quarta-feira!', 'governo', 'desemprego', 'chegou', 'históricos', '4,8%.', 'golpista,', 'bateu', '13%', 'delações', 'mostram', 'sofreu', 'golpe', 'porque', 'opôs', 'esquema', 'corrupção.', 'duvido', 'fazerem', 'nova', 'domingo', 'caso', 'dilma.', 'imprensa', 'escrita,', 'togada', 'televisada', 'fazia', 'qualquer', 'restrição', 'bancada', 'bbb', 'parece', 'que…', 'vereador', 'marcelo', 'sgarbossa', 'fez', 'bate', 'papo', 'bem', 'legal', 'querida', 'presidenta', 'rousseff', 'durante', 'passe…', 'obsessão', 'queda', 'temer,', 'assumir,', 'maia?', 'processos', 'protegida', 'janot?', 'eleições', '2018.', 'assim', 'turma', 'amiguinhos', 'guerrilheiros.'])\n"
     ]
    }
   ],
   "source": [
    "palavrasunicas = buscapalavrasunicas(frequencia)\n",
    "print(palavrasunicas)"
   ]
  },
  {
   "cell_type": "code",
   "execution_count": 51,
   "metadata": {
    "collapsed": true
   },
   "outputs": [],
   "source": [
    "def extratorpalavras(documento):\n",
    "    doc = set(documento)\n",
    "    caracteristicas ={}\n",
    "    for todaspalavras in palavrasunicas:\n",
    "        caracteristicas['%s' % todaspalavras] = (todaspalavras in doc)\n",
    "    return caracteristicas\n"
   ]
  },
  {
   "cell_type": "code",
   "execution_count": 50,
   "metadata": {},
   "outputs": [
    {
     "name": "stdout",
     "output_type": "stream",
     "text": [
      "{'todos': False, 'bandidos.': False, 'lembra-se': False, 'impeachment?': False, 'lula': False, 'distribuindo': False, 'dinheiro': False, 'mando': False, 'dilma?': False, 's…': False, 'dilma': False, 'caiu': False, 'tão': False, 'rápido': False, 'mal': False, 'pude': False, 'entender': False, 'impeachment,': False, 'temer...': False, 'tudo': False, 'dmora': False, 'tanto,': False, 'tanto': False, 'entendi': False, 'demais': False, 'arnaldo': False, 'jabor': False, 'diz': False, 'sido': False, 'impichada': False, 'virado': False, 'venezuela': False, 'acho': False, 'ainda': False, 'corremos': False, 'esse…': False, 'pois': False, 'é': False, ',': False, 'pilantras': False, 'verde': False, 'amarelo': False, 'ocupararm': False, 'av.paulista': False, 'afastar': False, 'dilma…': False, 'impeachment': False, 'tbm': False, 'compra': False, 'deputados': False, 'pra': False, 'votarem': False, '#patriaomuerte': False, 'travesti?': False, 'lembrou': False, 'liberou': False, 'emendas': False, 'p': False, 'tentar': False, 'barrar': False, 'atrocidades': False, 'ocorrendo': False, 'deveriam': False, 'servir': False, 'incentivo': False, 'mpf': False, 'pedir': False, 'urgente': False, 'prisões': False, 'e…': False, 'brasil': False, 'crescendo!': False, 'todo': False, 'parecer': False, 'discurso': False, 'invertido': False, 'fala': False, 'impeachment(golpe)': False, 'contra': False, 'dilm…': False, 'temer': False, 'pq': False, 'corrupto.fora': False, ',fora': False, 'aécio,fora': False, 'pt': False, 'discursos': False, '\"pelos': False, 'filhos,': False, 'estado,': False, 'cidade,': False, 'país\".': False, 'difícil': False, 'acreditar': False, '#investiguemtemer': False, 'td': False, 'safado😠': False, 'denúncia': False, 'corrupção': False, 'feita': False, 'pgr': False, 'vai': False, 'vingar.já': False, 'golpeada': False, '\"pedalada': False, 'fiscal\"': False, 'proces…': False, 'deixa': False, 'apavorada': False, 'primeiro': False, 'gente': False, 'tira': False, 'dilma,': False, 'diminuiu': False, 'investimento': False, 'educação': False, 'bolsas': False, 'pesquisadores': False, 'desigualdade…': False, 'bom': False, 'ter': False, 'amigos.': False, 'ec': False, 'marcou': False, 'votação': False, 'impedimento': False, 'domingo,': False, 'vivo': False, 'globo.': False, 'maia': False, 'agendou': False, 'quarta-feira!': False, 'governo': False, 'desemprego': False, 'chegou': False, 'históricos': False, '4,8%.': False, 'golpista,': False, 'bateu': False, '13%': False, 'delações': False, 'mostram': False, 'sofreu': False, 'golpe': False, 'porque': False, 'opôs': False, 'esquema': False, 'corrupção.': False, 'duvido': False, 'fazerem': False, 'nova': False, 'domingo': False, 'caso': False, 'dilma.': False, 'imprensa': False, 'escrita,': False, 'togada': False, 'televisada': False, 'fazia': False, 'qualquer': False, 'restrição': False, 'bancada': False, 'bbb': False, 'parece': False, 'que…': False, 'vereador': False, 'marcelo': False, 'sgarbossa': False, 'fez': False, 'bate': False, 'papo': False, 'bem': False, 'legal': False, 'querida': True, 'presidenta': False, 'rousseff': True, 'durante': False, 'passe…': False, 'obsessão': False, 'queda': False, 'temer,': False, 'assumir,': False, 'maia?': False, 'processos': False, 'protegida': False, 'janot?': False, 'eleições': False, '2018.': False, 'assim': False, 'turma': False, 'amiguinhos': False, 'guerrilheiros.': False}\n"
     ]
    }
   ],
   "source": [
    "caracteristicasfrase = extratorpalavras(['rousseff', 'querida'])\n",
    "print(caracteristicasfrase)"
   ]
  },
  {
   "cell_type": "code",
   "execution_count": 49,
   "metadata": {
    "collapsed": true
   },
   "outputs": [],
   "source": [
    "basecompleta = nltk.classify.apply_features(extratorpalavras,textosemstopwords)"
   ]
  },
  {
   "cell_type": "code",
   "execution_count": 44,
   "metadata": {},
   "outputs": [
    {
     "name": "stdout",
     "output_type": "stream",
     "text": [
      "[({'todos': True, 'bandidos.': True, 'lembra-se': True, 'impeachment?': True, 'lula': True, 'distribuindo': True, 'dinheiro': True, 'mando': True, 'dilma?': True, 's…': True, 'dilma': False, 'caiu': False, 'tão': False, 'rápido': False, 'mal': False, 'pude': False, 'entender': False, 'impeachment,': False, 'temer...': False, 'tudo': False, 'dmora': False, 'tanto,': False, 'tanto': False, 'entendi': False, 'demais': False, 'arnaldo': False, 'jabor': False, 'diz': False, 'sido': False, 'impichada': False, 'virado': False, 'venezuela': False, 'acho': False, 'ainda': False, 'corremos': False, 'esse…': False, 'pois': False, 'é': False, ',': False, 'pilantras': False, 'verde': False, 'amarelo': False, 'ocupararm': False, 'av.paulista': False, 'afastar': False, 'dilma…': False, 'impeachment': False, 'tbm': False, 'compra': False, 'deputados': False, 'pra': False, 'votarem': False, '#patriaomuerte': False, 'travesti?': False, 'lembrou': False, 'liberou': False, 'emendas': False, 'p': False, 'tentar': False, 'barrar': False, 'atrocidades': False, 'ocorrendo': False, 'deveriam': False, 'servir': False, 'incentivo': False, 'mpf': False, 'pedir': False, 'urgente': False, 'prisões': False, 'e…': False, 'brasil': False, 'crescendo!': False, 'todo': False, 'parecer': False, 'discurso': False, 'invertido': False, 'fala': False, 'impeachment(golpe)': False, 'contra': False, 'dilm…': False, 'temer': False, 'pq': False, 'corrupto.fora': False, ',fora': False, 'aécio,fora': False, 'pt': False, 'discursos': False, '\"pelos': False, 'filhos,': False, 'estado,': False, 'cidade,': False, 'país\".': False, 'difícil': False, 'acreditar': False, '#investiguemtemer': False, 'td': False, 'safado😠': False, 'denúncia': False, 'corrupção': False, 'feita': False, 'pgr': False, 'vai': False, 'vingar.já': False, 'golpeada': False, '\"pedalada': False, 'fiscal\"': False, 'proces…': False, 'deixa': False, 'apavorada': False, 'primeiro': False, 'gente': False, 'tira': False, 'dilma,': False, 'diminuiu': False, 'investimento': False, 'educação': False, 'bolsas': False, 'pesquisadores': False, 'desigualdade…': False, 'bom': False, 'ter': False, 'amigos.': False, 'ec': False, 'marcou': False, 'votação': False, 'impedimento': False, 'domingo,': False, 'vivo': False, 'globo.': False, 'maia': False, 'agendou': False, 'quarta-feira!': False, 'governo': False, 'desemprego': False, 'chegou': False, 'históricos': False, '4,8%.': False, 'golpista,': False, 'bateu': False, '13%': False, 'delações': False, 'mostram': False, 'sofreu': False, 'golpe': False, 'porque': False, 'opôs': False, 'esquema': False, 'corrupção.': False, 'duvido': False, 'fazerem': False, 'nova': False, 'domingo': False, 'caso': False, 'dilma.': False, 'imprensa': False, 'escrita,': False, 'togada': False, 'televisada': False, 'fazia': False, 'qualquer': False, 'restrição': False, 'bancada': False, 'bbb': False, 'parece': False, 'que…': False, 'vereador': False, 'marcelo': False, 'sgarbossa': False, 'fez': False, 'bate': False, 'papo': False, 'bem': False, 'legal': False, 'querida': False, 'presidenta': False, 'rousseff': False, 'durante': False, 'passe…': False, 'obsessão': False, 'queda': False, 'temer,': False, 'assumir,': False, 'maia?': False, 'processos': False, 'protegida': False, 'janot?': False, 'eleições': False, '2018.': False, 'assim': False, 'turma': False, 'amiguinhos': False, 'guerrilheiros.': False}, 'negativo'), ({'todos': False, 'bandidos.': False, 'lembra-se': False, 'impeachment?': False, 'lula': False, 'distribuindo': False, 'dinheiro': False, 'mando': False, 'dilma?': False, 's…': False, 'dilma': True, 'caiu': True, 'tão': True, 'rápido': True, 'mal': True, 'pude': True, 'entender': True, 'impeachment,': True, 'temer...': True, 'tudo': True, 'dmora': True, 'tanto,': True, 'tanto': True, 'entendi': True, 'demais': True, 'arnaldo': False, 'jabor': False, 'diz': False, 'sido': False, 'impichada': False, 'virado': False, 'venezuela': False, 'acho': False, 'ainda': False, 'corremos': False, 'esse…': False, 'pois': False, 'é': False, ',': False, 'pilantras': False, 'verde': False, 'amarelo': False, 'ocupararm': False, 'av.paulista': False, 'afastar': False, 'dilma…': False, 'impeachment': False, 'tbm': False, 'compra': False, 'deputados': False, 'pra': False, 'votarem': False, '#patriaomuerte': False, 'travesti?': False, 'lembrou': False, 'liberou': False, 'emendas': False, 'p': False, 'tentar': False, 'barrar': False, 'atrocidades': False, 'ocorrendo': False, 'deveriam': False, 'servir': False, 'incentivo': False, 'mpf': False, 'pedir': False, 'urgente': False, 'prisões': False, 'e…': False, 'brasil': False, 'crescendo!': False, 'todo': False, 'parecer': False, 'discurso': False, 'invertido': False, 'fala': False, 'impeachment(golpe)': False, 'contra': False, 'dilm…': False, 'temer': False, 'pq': False, 'corrupto.fora': False, ',fora': False, 'aécio,fora': False, 'pt': False, 'discursos': False, '\"pelos': False, 'filhos,': False, 'estado,': False, 'cidade,': False, 'país\".': False, 'difícil': False, 'acreditar': False, '#investiguemtemer': False, 'td': False, 'safado😠': False, 'denúncia': False, 'corrupção': False, 'feita': False, 'pgr': False, 'vai': False, 'vingar.já': False, 'golpeada': False, '\"pedalada': False, 'fiscal\"': False, 'proces…': False, 'deixa': False, 'apavorada': False, 'primeiro': False, 'gente': False, 'tira': False, 'dilma,': False, 'diminuiu': False, 'investimento': False, 'educação': False, 'bolsas': False, 'pesquisadores': False, 'desigualdade…': False, 'bom': False, 'ter': False, 'amigos.': False, 'ec': False, 'marcou': False, 'votação': False, 'impedimento': False, 'domingo,': False, 'vivo': False, 'globo.': False, 'maia': False, 'agendou': False, 'quarta-feira!': False, 'governo': False, 'desemprego': False, 'chegou': False, 'históricos': False, '4,8%.': False, 'golpista,': False, 'bateu': False, '13%': False, 'delações': False, 'mostram': False, 'sofreu': False, 'golpe': False, 'porque': False, 'opôs': False, 'esquema': False, 'corrupção.': False, 'duvido': False, 'fazerem': False, 'nova': False, 'domingo': False, 'caso': False, 'dilma.': False, 'imprensa': False, 'escrita,': False, 'togada': False, 'televisada': False, 'fazia': False, 'qualquer': False, 'restrição': False, 'bancada': False, 'bbb': False, 'parece': False, 'que…': False, 'vereador': False, 'marcelo': False, 'sgarbossa': False, 'fez': False, 'bate': False, 'papo': False, 'bem': False, 'legal': False, 'querida': False, 'presidenta': False, 'rousseff': False, 'durante': False, 'passe…': False, 'obsessão': False, 'queda': False, 'temer,': False, 'assumir,': False, 'maia?': False, 'processos': False, 'protegida': False, 'janot?': False, 'eleições': False, '2018.': False, 'assim': False, 'turma': False, 'amiguinhos': False, 'guerrilheiros.': False}, 'negativo'), ...]\n"
     ]
    }
   ],
   "source": [
    "print(buscacompleta)"
   ]
  },
  {
   "cell_type": "code",
   "execution_count": 92,
   "metadata": {},
   "outputs": [
    {
     "name": "stdout",
     "output_type": "stream",
     "text": [
      "['negativo', 'negativa', 'positiva', 'positivo', 'medo']\n",
      "Most Informative Features\n",
      "                   temer = True             medo : positi =      5.5 : 1.0\n",
      "                  virado = True           negati : negati =      5.0 : 1.0\n",
      "               impichada = True           negati : negati =      5.0 : 1.0\n",
      "                 arnaldo = True           negati : negati =      5.0 : 1.0\n",
      "                   ainda = True           negati : negati =      5.0 : 1.0\n",
      "                   jabor = True           negati : negati =      5.0 : 1.0\n",
      "                    sido = True           negati : negati =      5.0 : 1.0\n",
      "                     diz = True           negati : negati =      5.0 : 1.0\n",
      "                       é = True           positi : negati =      5.0 : 1.0\n",
      "                  contra = True             medo : positi =      3.3 : 1.0\n",
      "                   dilma = False          positi : negati =      3.0 : 1.0\n",
      "               venezuela = True           negati : negati =      3.0 : 1.0\n",
      "                     pra = True           negati : positi =      1.8 : 1.0\n",
      "             impeachment = True           negati : positi =      1.8 : 1.0\n",
      "                   dilma = True             medo : positi =      1.8 : 1.0\n",
      "               ocorrendo = False          positi : negati =      1.3 : 1.0\n",
      "                   turma = False          positi : negati =      1.3 : 1.0\n",
      "               corrupção = False          positi : negati =      1.3 : 1.0\n",
      "                   jabor = False          positi : positi =      1.3 : 1.0\n",
      "                       , = False          positi : negati =      1.3 : 1.0\n",
      "None\n"
     ]
    }
   ],
   "source": [
    "classificador = nltk.NaiveBayesClassifier.train(buscacompleta)\n",
    "print(classificador.labels())\n",
    "print(classificador.show_most_informative_features(20))"
   ]
  },
  {
   "cell_type": "code",
   "execution_count": 97,
   "metadata": {},
   "outputs": [
    {
     "name": "stdout",
     "output_type": "stream",
     "text": [
      "['dilma', 'travesti?']\n"
     ]
    }
   ],
   "source": [
    "teste = 'dilma travesti?'\n",
    "testesteming = []\n",
    "testesteming = teste.split()\n",
    "print(testesteming)"
   ]
  },
  {
   "cell_type": "code",
   "execution_count": 98,
   "metadata": {},
   "outputs": [
    {
     "name": "stdout",
     "output_type": "stream",
     "text": [
      "{'todos': False, 'bandidos.': False, 'lembra-se': False, 'impeachment?': False, 'lula': False, 'distribuindo': False, 'dinheiro': False, 'mando': False, 'dilma?': False, 's…': False, 'dilma': True, 'caiu': False, 'tão': False, 'rápido': False, 'mal': False, 'pude': False, 'entender': False, 'impeachment,': False, 'temer...': False, 'tudo': False, 'dmora': False, 'tanto,': False, 'tanto': False, 'entendi': False, 'demais': False, 'arnaldo': False, 'jabor': False, 'diz': False, 'sido': False, 'impichada': False, 'virado': False, 'venezuela': False, 'acho': False, 'ainda': False, 'corremos': False, 'esse…': False, 'pois': False, 'é': False, ',': False, 'pilantras': False, 'verde': False, 'amarelo': False, 'ocupararm': False, 'av.paulista': False, 'afastar': False, 'dilma…': False, 'impeachment': False, 'tbm': False, 'compra': False, 'deputados': False, 'pra': False, 'votarem': False, '#patriaomuerte': False, 'travesti?': True, 'lembrou': False, 'liberou': False, 'emendas': False, 'p': False, 'tentar': False, 'barrar': False, 'atrocidades': False, 'ocorrendo': False, 'deveriam': False, 'servir': False, 'incentivo': False, 'mpf': False, 'pedir': False, 'urgente': False, 'prisões': False, 'e…': False, 'brasil': False, 'crescendo!': False, 'todo': False, 'parecer': False, 'discurso': False, 'invertido': False, 'fala': False, 'impeachment(golpe)': False, 'contra': False, 'dilm…': False, 'temer': False, 'pq': False, 'corrupto.fora': False, ',fora': False, 'aécio,fora': False, 'pt': False, 'discursos': False, '\"pelos': False, 'filhos,': False, 'estado,': False, 'cidade,': False, 'país\".': False, 'difícil': False, 'acreditar': False, '#investiguemtemer': False, 'td': False, 'safado😠': False, 'denúncia': False, 'corrupção': False, 'feita': False, 'pgr': False, 'vai': False, 'vingar.já': False, 'golpeada': False, '\"pedalada': False, 'fiscal\"': False, 'proces…': False, 'deixa': False, 'apavorada': False, 'primeiro': False, 'gente': False, 'tira': False, 'dilma,': False, 'diminuiu': False, 'investimento': False, 'educação': False, 'bolsas': False, 'pesquisadores': False, 'desigualdade…': False, 'bom': False, 'ter': False, 'amigos.': False, 'ec': False, 'marcou': False, 'votação': False, 'impedimento': False, 'domingo,': False, 'vivo': False, 'globo.': False, 'maia': False, 'agendou': False, 'quarta-feira!': False, 'governo': False, 'desemprego': False, 'chegou': False, 'históricos': False, '4,8%.': False, 'golpista,': False, 'bateu': False, '13%': False, 'delações': False, 'mostram': False, 'sofreu': False, 'golpe': False, 'porque': False, 'opôs': False, 'esquema': False, 'corrupção.': False, 'duvido': False, 'fazerem': False, 'nova': False, 'domingo': False, 'caso': False, 'dilma.': False, 'imprensa': False, 'escrita,': False, 'togada': False, 'televisada': False, 'fazia': False, 'qualquer': False, 'restrição': False, 'bancada': False, 'bbb': False, 'parece': False, 'que…': False, 'vereador': False, 'marcelo': False, 'sgarbossa': False, 'fez': False, 'bate': False, 'papo': False, 'bem': False, 'legal': False, 'querida': False, 'presidenta': False, 'rousseff': False, 'durante': False, 'passe…': False, 'obsessão': False, 'queda': False, 'temer,': False, 'assumir,': False, 'maia?': False, 'processos': False, 'protegida': False, 'janot?': False, 'eleições': False, '2018.': False, 'assim': False, 'turma': False, 'amiguinhos': False, 'guerrilheiros.': False}\n"
     ]
    }
   ],
   "source": [
    "novo = extratorpalavras(testesteming)\n",
    "print(novo)"
   ]
  },
  {
   "cell_type": "code",
   "execution_count": 99,
   "metadata": {},
   "outputs": [
    {
     "name": "stdout",
     "output_type": "stream",
     "text": [
      "negativo\n"
     ]
    }
   ],
   "source": [
    "print(classificador.classify(novo))"
   ]
  },
  {
   "cell_type": "code",
   "execution_count": 107,
   "metadata": {},
   "outputs": [
    {
     "name": "stdout",
     "output_type": "stream",
     "text": [
      "negativo\n",
      "negativo: 0.646859\n",
      "negativa: 0.000000\n",
      "positiva: 0.000000\n",
      "positivo: 0.353141\n",
      "medo: 0.000000\n"
     ]
    }
   ],
   "source": [
    "teste = 'dilma golpe  travesti?'\n",
    "testesteming = []\n",
    "testesteming = teste.split()\n",
    "novo = extratorpalavras(testesteming)\n",
    "print(classificador.classify(novo))\n",
    "distribuicao = classificador.prob_classify(novo)\n",
    "for classe in distribuicao.samples():\n",
    "    print('%s: %f' % (classe, distribuicao.prob(classe)))\n"
   ]
  }
 ],
 "metadata": {
  "kernelspec": {
   "display_name": "Python 3",
   "language": "python",
   "name": "python3"
  },
  "language_info": {
   "codemirror_mode": {
    "name": "ipython",
    "version": 3
   },
   "file_extension": ".py",
   "mimetype": "text/x-python",
   "name": "python",
   "nbconvert_exporter": "python",
   "pygments_lexer": "ipython3",
   "version": "3.6.1"
  }
 },
 "nbformat": 4,
 "nbformat_minor": 2
}
